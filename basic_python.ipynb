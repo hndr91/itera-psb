{
 "cells": [
  {
   "cell_type": "markdown",
   "metadata": {},
   "source": [
    "## Basic Python\n",
    "\n",
    "Tutorial dasar python untuk *pengolahan* **sinyal** ***biomedis***\n",
    "\n",
    "Persamaan = $X_n$"
   ]
  },
  {
   "cell_type": "code",
   "execution_count": 2,
   "metadata": {},
   "outputs": [],
   "source": [
    "# numpy\n",
    "import numpy as np"
   ]
  },
  {
   "cell_type": "code",
   "execution_count": 4,
   "metadata": {},
   "outputs": [
    {
     "data": {
      "text/plain": [
       "[1, 2, 3, 4, 5]"
      ]
     },
     "execution_count": 4,
     "metadata": {},
     "output_type": "execute_result"
    }
   ],
   "source": [
    "ls_python = [1, 2, 3, 4, 5]\n",
    "ls_python"
   ]
  },
  {
   "cell_type": "code",
   "execution_count": 5,
   "metadata": {},
   "outputs": [
    {
     "data": {
      "text/plain": [
       "array([1, 2, 3, 4, 5])"
      ]
     },
     "execution_count": 5,
     "metadata": {},
     "output_type": "execute_result"
    }
   ],
   "source": [
    "ls_numpy = np.array([1,2,3,4,5])\n",
    "ls_numpy"
   ]
  },
  {
   "cell_type": "code",
   "execution_count": 6,
   "metadata": {},
   "outputs": [
    {
     "data": {
      "text/plain": [
       "5"
      ]
     },
     "execution_count": 6,
     "metadata": {},
     "output_type": "execute_result"
    }
   ],
   "source": [
    "# Cek size list\n",
    "len(ls_python)"
   ]
  },
  {
   "cell_type": "code",
   "execution_count": 8,
   "metadata": {},
   "outputs": [
    {
     "name": "stdout",
     "output_type": "stream",
     "text": [
      "5\n",
      "(5,)\n"
     ]
    }
   ],
   "source": [
    "print(len(ls_numpy))\n",
    "print(ls_numpy.shape)"
   ]
  },
  {
   "cell_type": "code",
   "execution_count": 9,
   "metadata": {},
   "outputs": [
    {
     "data": {
      "text/plain": [
       "(1, 5)"
      ]
     },
     "execution_count": 9,
     "metadata": {},
     "output_type": "execute_result"
    }
   ],
   "source": [
    "# Numpy array 2d\n",
    "ls_numpy2 = np.array([[1,2,3,4,5]])\n",
    "ls_numpy2.shape"
   ]
  },
  {
   "cell_type": "code",
   "execution_count": 12,
   "metadata": {},
   "outputs": [
    {
     "data": {
      "text/plain": [
       "5"
      ]
     },
     "execution_count": 12,
     "metadata": {},
     "output_type": "execute_result"
    }
   ],
   "source": [
    "# List python 2d\n",
    "ls_python2 = [[1, 2, 3, 4, 5]]\n",
    "len(ls_python2[0])"
   ]
  },
  {
   "cell_type": "code",
   "execution_count": 13,
   "metadata": {},
   "outputs": [
    {
     "data": {
      "text/plain": [
       "array([1, 2, 3, 4, 5])"
      ]
     },
     "execution_count": 13,
     "metadata": {},
     "output_type": "execute_result"
    }
   ],
   "source": [
    "# Membuat numpy array berdasarkan python list\n",
    "ls_native = [1, 2, 3, 4, 5]\n",
    "ls_py = np.array(ls_native)\n",
    "ls_py"
   ]
  },
  {
   "cell_type": "code",
   "execution_count": 15,
   "metadata": {},
   "outputs": [
    {
     "data": {
      "text/plain": [
       "array([2, 3, 4, 5])"
      ]
     },
     "execution_count": 15,
     "metadata": {},
     "output_type": "execute_result"
    }
   ],
   "source": [
    "# Slicing\n",
    "ls_py[0] # data ke-1 / index = 0\n",
    "ls_py[1:]"
   ]
  },
  {
   "cell_type": "code",
   "execution_count": 17,
   "metadata": {},
   "outputs": [
    {
     "data": {
      "text/plain": [
       "array([0.6581465 , 0.38148266, 0.16053255, 0.53906112, 0.04350523,\n",
       "       0.89157639, 0.96341561, 0.99187264, 0.46890723, 0.40994803,\n",
       "       0.79625308, 0.22246187, 0.91022815, 0.00185411, 0.81407419,\n",
       "       0.80292509, 0.05307537, 0.63565805, 0.16853807, 0.93727761,\n",
       "       0.87040145, 0.42206181, 0.99743343, 0.17446622, 0.49138739,\n",
       "       0.8284161 , 0.9098598 , 0.60234963, 0.45781287, 0.83417443,\n",
       "       0.33639955, 0.52339806, 0.7798487 , 0.6965416 , 0.78429964,\n",
       "       0.19303025, 0.09482064, 0.07082616, 0.71539882, 0.72051048,\n",
       "       0.76741666, 0.47291712, 0.5402279 , 0.67125029, 0.67754516,\n",
       "       0.78890502, 0.56887126, 0.26849755, 0.67798365, 0.6202206 ,\n",
       "       0.15734761, 0.64094899, 0.44650168, 0.72661818, 0.54366849,\n",
       "       0.8925816 , 0.69016176, 0.48199839, 0.02755583, 0.34688421,\n",
       "       0.2390424 , 0.28225223, 0.58305999, 0.50013552, 0.04268732,\n",
       "       0.91520676, 0.11677066, 0.07036286, 0.67231852, 0.99926227,\n",
       "       0.13244949, 0.63536046, 0.68667308, 0.13296403, 0.51611331,\n",
       "       0.84876731, 0.31958491, 0.77128685, 0.34779059, 0.36933911,\n",
       "       0.49774673, 0.90740475, 0.22095692, 0.95143469, 0.12552445,\n",
       "       0.57984219, 0.75246284, 0.58594055, 0.52894769, 0.56101398,\n",
       "       0.05664537, 0.99331706, 0.90356806, 0.0869719 , 0.50841039,\n",
       "       0.41290212, 0.87953495, 0.30105589, 0.62214037, 0.82366836])"
      ]
     },
     "execution_count": 17,
     "metadata": {},
     "output_type": "execute_result"
    }
   ],
   "source": [
    "# Sinyal random\n",
    "\n",
    "x = np.random.rand(100)\n",
    "x"
   ]
  },
  {
   "cell_type": "code",
   "execution_count": 9,
   "metadata": {},
   "outputs": [
    {
     "ename": "NameError",
     "evalue": "name 'x' is not defined",
     "output_type": "error",
     "traceback": [
      "\u001b[0;31m---------------------------------------------------------------------------\u001b[0m",
      "\u001b[0;31mNameError\u001b[0m                                 Traceback (most recent call last)",
      "\u001b[0;32m<ipython-input-9-4b02fe09f74e>\u001b[0m in \u001b[0;36m<module>\u001b[0;34m\u001b[0m\n\u001b[1;32m      1\u001b[0m \u001b[0;32mimport\u001b[0m \u001b[0mmatplotlib\u001b[0m\u001b[0;34m.\u001b[0m\u001b[0mpyplot\u001b[0m \u001b[0;32mas\u001b[0m \u001b[0mplt\u001b[0m\u001b[0;34m\u001b[0m\u001b[0;34m\u001b[0m\u001b[0m\n\u001b[1;32m      2\u001b[0m \u001b[0;34m\u001b[0m\u001b[0m\n\u001b[0;32m----> 3\u001b[0;31m \u001b[0mplt\u001b[0m\u001b[0;34m.\u001b[0m\u001b[0mplot\u001b[0m\u001b[0;34m(\u001b[0m\u001b[0mx\u001b[0m\u001b[0;34m)\u001b[0m\u001b[0;34m\u001b[0m\u001b[0;34m\u001b[0m\u001b[0m\n\u001b[0m",
      "\u001b[0;31mNameError\u001b[0m: name 'x' is not defined"
     ]
    }
   ],
   "source": [
    "import matplotlib.pyplot as plt\n",
    "\n",
    "plt.plot(x)"
   ]
  },
  {
   "cell_type": "code",
   "execution_count": 1,
   "metadata": {},
   "outputs": [],
   "source": [
    "import pandas as pd"
   ]
  },
  {
   "cell_type": "code",
   "execution_count": 7,
   "metadata": {},
   "outputs": [
    {
     "data": {
      "text/html": [
       "<div>\n",
       "<style scoped>\n",
       "    .dataframe tbody tr th:only-of-type {\n",
       "        vertical-align: middle;\n",
       "    }\n",
       "\n",
       "    .dataframe tbody tr th {\n",
       "        vertical-align: top;\n",
       "    }\n",
       "\n",
       "    .dataframe thead th {\n",
       "        text-align: right;\n",
       "    }\n",
       "</style>\n",
       "<table border=\"1\" class=\"dataframe\">\n",
       "  <thead>\n",
       "    <tr style=\"text-align: right;\">\n",
       "      <th></th>\n",
       "      <th>Timestamp</th>\n",
       "      <th>EEG.Counter</th>\n",
       "      <th>EEG.Interpolated</th>\n",
       "      <th>EEG.AF3</th>\n",
       "      <th>EEG.T7</th>\n",
       "      <th>EEG.Pz</th>\n",
       "      <th>EEG.T8</th>\n",
       "      <th>EEG.AF4</th>\n",
       "      <th>EEG.RawCq</th>\n",
       "      <th>EEG.Battery</th>\n",
       "      <th>...</th>\n",
       "      <th>MOT.Q0</th>\n",
       "      <th>MOT.Q1</th>\n",
       "      <th>MOT.Q2</th>\n",
       "      <th>MOT.Q3</th>\n",
       "      <th>MOT.AccX</th>\n",
       "      <th>MOT.AccY</th>\n",
       "      <th>MOT.AccZ</th>\n",
       "      <th>MOT.MagX</th>\n",
       "      <th>MOT.MagY</th>\n",
       "      <th>MOT.MagZ</th>\n",
       "    </tr>\n",
       "  </thead>\n",
       "  <tbody>\n",
       "    <tr>\n",
       "      <th>0</th>\n",
       "      <td>1.618378e+09</td>\n",
       "      <td>1.0</td>\n",
       "      <td>0.0</td>\n",
       "      <td>4251.282227</td>\n",
       "      <td>4232.820313</td>\n",
       "      <td>4233.846191</td>\n",
       "      <td>4158.974121</td>\n",
       "      <td>4239.487305</td>\n",
       "      <td>450.0</td>\n",
       "      <td>3.0</td>\n",
       "      <td>...</td>\n",
       "      <td>NaN</td>\n",
       "      <td>NaN</td>\n",
       "      <td>NaN</td>\n",
       "      <td>NaN</td>\n",
       "      <td>NaN</td>\n",
       "      <td>NaN</td>\n",
       "      <td>NaN</td>\n",
       "      <td>NaN</td>\n",
       "      <td>NaN</td>\n",
       "      <td>NaN</td>\n",
       "    </tr>\n",
       "    <tr>\n",
       "      <th>1</th>\n",
       "      <td>1.618378e+09</td>\n",
       "      <td>2.0</td>\n",
       "      <td>0.0</td>\n",
       "      <td>4254.358887</td>\n",
       "      <td>4240.512695</td>\n",
       "      <td>4248.717773</td>\n",
       "      <td>4163.077148</td>\n",
       "      <td>4235.384766</td>\n",
       "      <td>16214.0</td>\n",
       "      <td>3.0</td>\n",
       "      <td>...</td>\n",
       "      <td>0.180804</td>\n",
       "      <td>0.583008</td>\n",
       "      <td>0.170898</td>\n",
       "      <td>-0.773438</td>\n",
       "      <td>0.993667</td>\n",
       "      <td>0.060060</td>\n",
       "      <td>-0.149905</td>\n",
       "      <td>-12.853886</td>\n",
       "      <td>3.946063</td>\n",
       "      <td>59.928391</td>\n",
       "    </tr>\n",
       "    <tr>\n",
       "      <th>2</th>\n",
       "      <td>1.618378e+09</td>\n",
       "      <td>3.0</td>\n",
       "      <td>0.0</td>\n",
       "      <td>4255.897461</td>\n",
       "      <td>4248.205078</td>\n",
       "      <td>4255.897461</td>\n",
       "      <td>4172.820313</td>\n",
       "      <td>4240.000000</td>\n",
       "      <td>450.0</td>\n",
       "      <td>3.0</td>\n",
       "      <td>...</td>\n",
       "      <td>NaN</td>\n",
       "      <td>NaN</td>\n",
       "      <td>NaN</td>\n",
       "      <td>NaN</td>\n",
       "      <td>NaN</td>\n",
       "      <td>NaN</td>\n",
       "      <td>NaN</td>\n",
       "      <td>NaN</td>\n",
       "      <td>NaN</td>\n",
       "      <td>NaN</td>\n",
       "    </tr>\n",
       "    <tr>\n",
       "      <th>3</th>\n",
       "      <td>1.618378e+09</td>\n",
       "      <td>4.0</td>\n",
       "      <td>0.0</td>\n",
       "      <td>4252.820313</td>\n",
       "      <td>4244.102539</td>\n",
       "      <td>4251.794922</td>\n",
       "      <td>4173.333496</td>\n",
       "      <td>4244.615234</td>\n",
       "      <td>16211.0</td>\n",
       "      <td>3.0</td>\n",
       "      <td>...</td>\n",
       "      <td>0.180573</td>\n",
       "      <td>0.583008</td>\n",
       "      <td>0.171143</td>\n",
       "      <td>-0.773438</td>\n",
       "      <td>0.979507</td>\n",
       "      <td>0.075685</td>\n",
       "      <td>-0.155764</td>\n",
       "      <td>-12.944251</td>\n",
       "      <td>7.020748</td>\n",
       "      <td>58.481518</td>\n",
       "    </tr>\n",
       "    <tr>\n",
       "      <th>4</th>\n",
       "      <td>1.618378e+09</td>\n",
       "      <td>5.0</td>\n",
       "      <td>0.0</td>\n",
       "      <td>4251.794922</td>\n",
       "      <td>4240.512695</td>\n",
       "      <td>4248.717773</td>\n",
       "      <td>4172.820313</td>\n",
       "      <td>4243.077148</td>\n",
       "      <td>450.0</td>\n",
       "      <td>3.0</td>\n",
       "      <td>...</td>\n",
       "      <td>NaN</td>\n",
       "      <td>NaN</td>\n",
       "      <td>NaN</td>\n",
       "      <td>NaN</td>\n",
       "      <td>NaN</td>\n",
       "      <td>NaN</td>\n",
       "      <td>NaN</td>\n",
       "      <td>NaN</td>\n",
       "      <td>NaN</td>\n",
       "      <td>NaN</td>\n",
       "    </tr>\n",
       "  </tbody>\n",
       "</table>\n",
       "<p>5 rows × 40 columns</p>\n",
       "</div>"
      ],
      "text/plain": [
       "      Timestamp  EEG.Counter  EEG.Interpolated      EEG.AF3       EEG.T7  \\\n",
       "0  1.618378e+09          1.0               0.0  4251.282227  4232.820313   \n",
       "1  1.618378e+09          2.0               0.0  4254.358887  4240.512695   \n",
       "2  1.618378e+09          3.0               0.0  4255.897461  4248.205078   \n",
       "3  1.618378e+09          4.0               0.0  4252.820313  4244.102539   \n",
       "4  1.618378e+09          5.0               0.0  4251.794922  4240.512695   \n",
       "\n",
       "        EEG.Pz       EEG.T8      EEG.AF4  EEG.RawCq  EEG.Battery  ...  \\\n",
       "0  4233.846191  4158.974121  4239.487305      450.0          3.0  ...   \n",
       "1  4248.717773  4163.077148  4235.384766    16214.0          3.0  ...   \n",
       "2  4255.897461  4172.820313  4240.000000      450.0          3.0  ...   \n",
       "3  4251.794922  4173.333496  4244.615234    16211.0          3.0  ...   \n",
       "4  4248.717773  4172.820313  4243.077148      450.0          3.0  ...   \n",
       "\n",
       "     MOT.Q0    MOT.Q1    MOT.Q2    MOT.Q3  MOT.AccX  MOT.AccY  MOT.AccZ  \\\n",
       "0       NaN       NaN       NaN       NaN       NaN       NaN       NaN   \n",
       "1  0.180804  0.583008  0.170898 -0.773438  0.993667  0.060060 -0.149905   \n",
       "2       NaN       NaN       NaN       NaN       NaN       NaN       NaN   \n",
       "3  0.180573  0.583008  0.171143 -0.773438  0.979507  0.075685 -0.155764   \n",
       "4       NaN       NaN       NaN       NaN       NaN       NaN       NaN   \n",
       "\n",
       "    MOT.MagX  MOT.MagY   MOT.MagZ  \n",
       "0        NaN       NaN        NaN  \n",
       "1 -12.853886  3.946063  59.928391  \n",
       "2        NaN       NaN        NaN  \n",
       "3 -12.944251  7.020748  58.481518  \n",
       "4        NaN       NaN        NaN  \n",
       "\n",
       "[5 rows x 40 columns]"
      ]
     },
     "execution_count": 7,
     "metadata": {},
     "output_type": "execute_result"
    }
   ],
   "source": [
    "df = pd.read_csv('S11.csv', skiprows=1)\n",
    "\n",
    "df.head()"
   ]
  },
  {
   "cell_type": "code",
   "execution_count": 8,
   "metadata": {},
   "outputs": [
    {
     "data": {
      "text/plain": [
       "0        4251.282227\n",
       "1        4254.358887\n",
       "2        4255.897461\n",
       "3        4252.820313\n",
       "4        4251.794922\n",
       "            ...     \n",
       "14162    4243.589844\n",
       "14163    4259.487305\n",
       "14164    4282.051270\n",
       "14165    4275.384766\n",
       "14166    4262.563965\n",
       "Name: EEG.AF3, Length: 14167, dtype: float64"
      ]
     },
     "execution_count": 8,
     "metadata": {},
     "output_type": "execute_result"
    }
   ],
   "source": [
    "df['EEG.AF3']"
   ]
  },
  {
   "cell_type": "code",
   "execution_count": 10,
   "metadata": {},
   "outputs": [
    {
     "data": {
      "text/plain": [
       "[<matplotlib.lines.Line2D at 0x122660f70>]"
      ]
     },
     "execution_count": 10,
     "metadata": {},
     "output_type": "execute_result"
    },
    {
     "data": {
      "image/png": "[encoded data removed]",
      "text/plain": [
       "<Figure size 432x288 with 1 Axes>"
      ]
     },
     "metadata": {
      "needs_background": "light"
     },
     "output_type": "display_data"
    }
   ],
   "source": [
    "plt.plot(df['EEG.AF3'])"
   ]
  },
  {
   "cell_type": "code",
   "execution_count": null,
   "metadata": {},
   "outputs": [],
   "source": []
  }
 ],
 "metadata": {
  "kernelspec": {
   "display_name": "Python 3.8.2 ('base')",
   "language": "python",
   "name": "python3"
  },
  "language_info": {
   "codemirror_mode": {
    "name": "ipython",
    "version": 3
   },
   "file_extension": ".py",
   "mimetype": "text/x-python",
   "name": "python",
   "nbconvert_exporter": "python",
   "pygments_lexer": "ipython3",
   "version": "3.8.2"
  },
  "orig_nbformat": 4,
  "vscode": {
   "interpreter": {
    "hash": "398dc28c06ad810e77de546bbdfa897a6ee0b83e59a5207339dda01a7843e01d"
   }
  }
 },
 "nbformat": 4,
 "nbformat_minor": 2
}
