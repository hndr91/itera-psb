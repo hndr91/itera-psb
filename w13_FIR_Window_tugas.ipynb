{
 "cells": [
  {
   "attachments": {},
   "cell_type": "markdown",
   "metadata": {},
   "source": [
    "# Soal 1"
   ]
  },
  {
   "attachments": {},
   "cell_type": "markdown",
   "metadata": {},
   "source": [
    "Rancang FIR dengan metode windowing dengan spesifikasi filter,\n",
    "- Tipe: LPF\n",
    "- $f_s$: 10 kHz\n",
    "- $f_c$: 2 kHz\n",
    "- Transtion band: 1 kHz\n",
    "- Stopband attenuation: 25 db\n",
    "- Passband ripple: < 0.1 db\n",
    "\n",
    "Tentukan window yang cocok, kemudian hitung secara manual nilai $h(0)$, $h(\\frac{N}{2})$, $h(N)$"
   ]
  },
  {
   "attachments": {},
   "cell_type": "markdown",
   "metadata": {},
   "source": [
    "## Jawab Soal 1"
   ]
  },
  {
   "attachments": {},
   "cell_type": "markdown",
   "metadata": {},
   "source": [
    "### Jenis Window + Perhitungan\n",
    "Berdasarkan spek filter, window yang paling mendekati adalah 'Hanning'\n",
    "\n",
    "$f_c$ dengan transition -> $f_{c'} = 2kHz - 0.5(1kHz) = 1.5kHz$\n",
    "\n",
    "Orde -> \n",
    "\n",
    "$\\left( \\frac{transition \\; band}{f_s} \\right) = \\frac{1}{10} = 0.1$\n",
    "\n",
    "$ 0.1 = \\frac{3.1}{N+1} $\n",
    "\n",
    "$ N + 1 = \\frac{3.1}{0.1} $\n",
    "\n",
    "$ N = 31 - 1 = 30 $\n",
    "\n",
    "Sehingga, panjang window adalah $N+1 = 31$\n",
    "\n",
    "Hitung nilai $h(0)$, $h(\\frac{N}{2})$, $h(N)$ --> dengan matlab (mahasiswa manual)\n",
    "\n",
    "$ h(0) = -0.0002 $\n",
    "\n",
    "$h(\\frac{N}{2}) = h(15) = -0.2551$\n",
    "\n",
    "$ h(N) = h(30) = -0.0005 $"
   ]
  },
  {
   "attachments": {},
   "cell_type": "markdown",
   "metadata": {},
   "source": [
    "## Soal 2"
   ]
  },
  {
   "attachments": {},
   "cell_type": "markdown",
   "metadata": {},
   "source": [
    "Implementasikan soal 1 dengan matlab 'fir1' lengkap dengan impulse response dan freq response"
   ]
  },
  {
   "attachments": {},
   "cell_type": "markdown",
   "metadata": {},
   "source": [
    "## Jawab Soal 2\n",
    "\n",
    "```matlab\n",
    "% Untuk FIR Window kika akan menggunakan fungsi 'fir1'\n",
    "format short\n",
    "b = fir1(30,1500/5000,'low',hanning(31));\n",
    "\n",
    "figure(1)\n",
    "plot(b)\n",
    "\n",
    "% Cek respon frekuensi\n",
    "[h, w] = freqz(b, 1, 'whole');\n",
    "% 'whole' digunakan untuk melakukan pencerminan\n",
    "\n",
    "% plot frekuensi response\n",
    "figure(2)\n",
    "plot(w/pi, abs(h))\n",
    "```"
   ]
  },
  {
   "attachments": {},
   "cell_type": "markdown",
   "metadata": {},
   "source": [
    "## Soal 3"
   ]
  },
  {
   "attachments": {},
   "cell_type": "markdown",
   "metadata": {},
   "source": [
    "Implementasi soal 1 dengan python"
   ]
  },
  {
   "attachments": {},
   "cell_type": "markdown",
   "metadata": {},
   "source": [
    "### Jawab Soal 3"
   ]
  },
  {
   "cell_type": "code",
   "execution_count": 1,
   "metadata": {},
   "outputs": [
    {
     "name": "stdout",
     "output_type": "stream",
     "text": [
      "[ 0.      0.0001 -0.0003 -0.0024 -0.0039  0.      0.0099  0.0169  0.0078\n",
      " -0.0204 -0.0477 -0.039   0.0296  0.1448  0.2546  0.2999  0.2546  0.1448\n",
      "  0.0296 -0.039  -0.0477 -0.0204  0.0078  0.0169  0.0099  0.     -0.0039\n",
      " -0.0024 -0.0003  0.0001  0.    ]\n"
     ]
    },
    {
     "data": {
      "text/plain": [
       "[<matplotlib.lines.Line2D at 0x118d45790>]"
      ]
     },
     "execution_count": 1,
     "metadata": {},
     "output_type": "execute_result"
    },
    {
     "data": {
      "image/png": "[encoded data removed]",
      "text/plain": [
       "<Figure size 432x288 with 1 Axes>"
      ]
     },
     "metadata": {
      "needs_background": "light"
     },
     "output_type": "display_data"
    },
    {
     "data": {
      "image/png": "[encoded data removed]",
      "text/plain": [
       "<Figure size 432x288 with 1 Axes>"
      ]
     },
     "metadata": {
      "needs_background": "light"
     },
     "output_type": "display_data"
    }
   ],
   "source": [
    "# fir1 pada Matlab ekivalen dengan firwin di scipy\n",
    "# import library\n",
    "from scipy import signal, pi\n",
    "import numpy as np\n",
    "import matplotlib.pyplot as plt\n",
    "\n",
    "# Definisikan spek filter\n",
    "n = 31 # panjang filter -> orde + 1\n",
    "fc_ = 1500 # freq cut-off terkoreksi\n",
    "hfs = 5000 # setengah fs\n",
    "\n",
    "# Kalkulasi h(n)\n",
    "b = signal.firwin(n, fc_/hfs, window='hanning', pass_zero='lowpass')\n",
    "np.set_printoptions(precision=4) # bulatkan 4 angkat koma\n",
    "np.set_printoptions(suppress=True) # hilangkan nilai e\n",
    "print(b)\n",
    "\n",
    "# Plot h(n)\n",
    "plt.figure(1)\n",
    "plt.plot(b)\n",
    "\n",
    "# Kalkulasi FFT dari h(n)\n",
    "w, h = signal.freqz(b, 1, whole=True)\n",
    "plt.figure(2)\n",
    "plt.plot(w/pi, abs(h))"
   ]
  },
  {
   "cell_type": "code",
   "execution_count": null,
   "metadata": {},
   "outputs": [],
   "source": []
  }
 ],
 "metadata": {
  "kernelspec": {
   "display_name": "base",
   "language": "python",
   "name": "python3"
  },
  "language_info": {
   "codemirror_mode": {
    "name": "ipython",
    "version": 3
   },
   "file_extension": ".py",
   "mimetype": "text/x-python",
   "name": "python",
   "nbconvert_exporter": "python",
   "pygments_lexer": "ipython3",
   "version": "3.8.2 (default, Mar 25 2020, 11:22:43) \n[Clang 4.0.1 (tags/RELEASE_401/final)]"
  },
  "orig_nbformat": 4,
  "vscode": {
   "interpreter": {
    "hash": "398dc28c06ad810e77de546bbdfa897a6ee0b83e59a5207339dda01a7843e01d"
   }
  }
 },
 "nbformat": 4,
 "nbformat_minor": 2
}
