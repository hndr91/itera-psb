{
 "cells": [
  {
   "attachments": {},
   "cell_type": "markdown",
   "metadata": {},
   "source": [
    "## Soal 1"
   ]
  },
  {
   "attachments": {},
   "cell_type": "markdown",
   "metadata": {},
   "source": [
    "Rancanglah HPF dengan orde 8 dan $\\Omega_c= 4/9\\pi$ (manual dan matlab) --> kunci matlab only"
   ]
  },
  {
   "attachments": {},
   "cell_type": "markdown",
   "metadata": {},
   "source": [
    "## Jawab Soal 1"
   ]
  },
  {
   "attachments": {},
   "cell_type": "markdown",
   "metadata": {},
   "source": [
    "Digunakan 6 titik sampel"
   ]
  },
  {
   "attachments": {},
   "cell_type": "markdown",
   "metadata": {},
   "source": [
    "```matlab\n",
    "% Definisikan frekuensi\n",
    "% dari titik-titik sampel\n",
    "F = [0 2/9 4/9 6/9 8/9 1];\n",
    "\n",
    "% Definisinkan nilai dari\n",
    "% titik frekuensi -> HPF dengan fc di 4/9\n",
    "A = [0 0 0 1 1 1];\n",
    "\n",
    "% Definisikan nilai orde\n",
    "N = 8;\n",
    "\n",
    "plot(F,A, w/pi, abs(h))\n",
    "\n",
    "% Desain filter dengan 'fir2'\n",
    "% Dokumentasi: https://www.mathworks.com/help/signal/ref/fir2.html\n",
    "b = fir2(N, F, A, boxcar(N+1));\n",
    "% boxcar merupakan fungsi untuk membuat \n",
    "% rectangular pulse function (curam)\n",
    "\n",
    "% cek hasil 'fir2'\n",
    "b\n",
    "\n",
    "% Cek respon frekuensi\n",
    "[h, w] = freqz(b, 1);\n",
    "\n",
    "% plot ideal vs. h(n)\n",
    "figure(1)\n",
    "plot(F,A, w/pi, abs(h))\n",
    "\n",
    "%======%\n",
    "\n",
    "% kalkulasi ulang \n",
    "% untuk kebutuhan plot respon frek (termasuk pencerminan)\n",
    "[h1, w1] = freqz(b, 1, 'whole');\n",
    "\n",
    "% plot respon frekuensi\n",
    "figure(2)\n",
    "plot(w1/pi, abs(h1))\n",
    "```"
   ]
  },
  {
   "attachments": {},
   "cell_type": "markdown",
   "metadata": {},
   "source": [
    "Hasil nilai b adalah,\n",
    "b = -0.0363, 0.0762, 0.0503, -0.3072, 0.4443, -0.3072, 0.0503, 0.0762, -0.0363"
   ]
  },
  {
   "attachments": {},
   "cell_type": "markdown",
   "metadata": {},
   "source": [
    "## Soal 2"
   ]
  },
  {
   "attachments": {},
   "cell_type": "markdown",
   "metadata": {},
   "source": [
    "Rancanglah LPF dengan orde 9, $f_c = 2kHz$, $f_{stop} = 3kHz$, dan $f_s = 10 kHz$"
   ]
  },
  {
   "attachments": {},
   "cell_type": "markdown",
   "metadata": {},
   "source": [
    "## Jawab Soal 2"
   ]
  },
  {
   "attachments": {},
   "cell_type": "markdown",
   "metadata": {},
   "source": [
    "Akan dijawab dengan menggunakan matlab. Perhitungan bantuan sebagai berikut,\n",
    "\n",
    "Banyak sampling -> $N+1 = 9 + 1 = 10$ -> digunakan untuk hitungan manual\n",
    "\n",
    "Normalisasi $f_c$ --> $f_{c'} = \\frac{2}{5} = 0.4$ --> ingat $1/2 * f_s$\n",
    "\n",
    "Normalisasi $f_{stop}$ --> $f_{stop'} = \\frac{3}{5} = 0.6$"
   ]
  },
  {
   "attachments": {},
   "cell_type": "markdown",
   "metadata": {},
   "source": [
    "```matlab\n",
    "% Definisikan frekuensi\n",
    "% dari titik-titik sampel --> digunakan 4\n",
    "F = [0 0.4 0.6 1];\n",
    "\n",
    "% Definisinkan nilai dari\n",
    "% titik frekuensi -> LPF dengan fc di \n",
    "A = [1 1 0 0];\n",
    "\n",
    "% Definisikan nilai orde\n",
    "N = 10;\n",
    "\n",
    "% Desain filter dengan 'fir2'\n",
    "% Dokumentasi: https://www.mathworks.com/help/signal/ref/fir2.html\n",
    "b = fir2(N, F, A, boxcar(N+1));\n",
    "% boxcar merupakan fungsi untuk membuat \n",
    "% rectangular pulse function (curam)\n",
    "\n",
    "% cek hasil 'fir2'\n",
    "b\n",
    "\n",
    "% Cek respon frekuensi\n",
    "[h, w] = freqz(b, 1);\n",
    "\n",
    "% plot ideal vs. h(n)\n",
    "figure(1)\n",
    "plot(F,A, w/pi, abs(h))\n",
    "\n",
    "%======%\n",
    "\n",
    "% kalkulasi ulang \n",
    "% untuk kebutuhan plot respon frek (termasuk pencerminan)\n",
    "[h1, w1] = freqz(b, 1, 'whole');\n",
    "\n",
    "% plot respon frekuensi\n",
    "figure(2)\n",
    "plot(w1/pi, abs(h1))\n",
    "```"
   ]
  },
  {
   "attachments": {},
   "cell_type": "markdown",
   "metadata": {},
   "source": [
    "Hasil dari nilai b adalah,\n",
    "\n",
    "b = 0.0348, -0.0530, -0.0807, 0.1454, 0.4477, 0.4477, 0.1454, -0.0807, -0.0530, 0.0348"
   ]
  },
  {
   "cell_type": "markdown",
   "metadata": {},
   "source": []
  }
 ],
 "metadata": {
  "kernelspec": {
   "display_name": "base",
   "language": "python",
   "name": "python3"
  },
  "language_info": {
   "name": "python",
   "version": "3.8.2 (default, Mar 25 2020, 11:22:43) \n[Clang 4.0.1 (tags/RELEASE_401/final)]"
  },
  "orig_nbformat": 4,
  "vscode": {
   "interpreter": {
    "hash": "398dc28c06ad810e77de546bbdfa897a6ee0b83e59a5207339dda01a7843e01d"
   }
  }
 },
 "nbformat": 4,
 "nbformat_minor": 2
}
